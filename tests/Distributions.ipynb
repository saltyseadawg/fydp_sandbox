{
 "cells": [
  {
   "cell_type": "code",
   "execution_count": 3,
   "id": "c39da88a-fbe8-46a8-9ecc-9827327bd02e",
   "metadata": {},
   "outputs": [
    {
     "name": "stdout",
     "output_type": "stream",
     "text": [
      "/app\n"
     ]
    }
   ],
   "source": [
    "%cd .."
   ]
  },
  {
   "cell_type": "code",
   "execution_count": 13,
   "id": "f0107cac",
   "metadata": {},
   "outputs": [],
   "source": [
    "from collections import Counter\n",
    "\n",
    "from tonami.Classifier import PITCH_FILEPATH\n",
    "from tonami import pitch_process_batch as ppb\n",
    "import pandas as pd\n",
    "import matplotlib.pyplot as plt"
   ]
  },
  {
   "cell_type": "code",
   "execution_count": 5,
   "id": "fa5c21ea-e57b-49a3-85e3-c7056b1b3c82",
   "metadata": {},
   "outputs": [
    {
     "data": {
      "image/png": "[encoded data removed]",
      "text/plain": [
       "<Figure size 432x288 with 1 Axes>"
      ]
     },
     "metadata": {
      "needs_background": "light"
     },
     "output_type": "display_data"
    }
   ],
   "source": [
    "speakers = []\n",
    "pitch_data = pd.read_json(PITCH_FILEPATH)\n",
    "\n",
    "if speakers:\n",
    "    pitch_data = pitch_data.loc[pitch_data['speaker'].isin(speakers)]\n",
    "\n",
    "label, data = ppb.end_to_end(pitch_data)\n",
    "\n",
    "n1, _, _ = plt.hist(pitch_data['tone'])\n",
    "plt.show()"
   ]
  },
  {
   "cell_type": "code",
   "execution_count": 6,
   "id": "e2816128-a4c1-4ce6-9054-ec1a362c82df",
   "metadata": {},
   "outputs": [
    {
     "data": {
      "image/png": "[encoded data removed]",
      "text/plain": [
       "<Figure size 432x288 with 1 Axes>"
      ]
     },
     "metadata": {
      "needs_background": "light"
     },
     "output_type": "display_data"
    }
   ],
   "source": [
    "label, data = ppb.end_to_end(pitch_data)\n",
    "n2, _, _ = plt.hist(label)\n",
    "plt.show()"
   ]
  },
  {
   "cell_type": "code",
   "execution_count": 7,
   "id": "7dd341c4-252f-476e-bd20-3680b6b6de25",
   "metadata": {},
   "outputs": [
    {
     "name": "stdout",
     "output_type": "stream",
     "text": [
      "[  0.   0.   0.   0.   0.   0.  15.   0.   0. 311.]\n"
     ]
    }
   ],
   "source": [
    "# number of samples removed\n",
    "print(n1-n2)"
   ]
  },
  {
   "cell_type": "code",
   "execution_count": 18,
   "id": "5c74d4b9-1f08-475e-b8a1-bb22bef33344",
   "metadata": {},
   "outputs": [
    {
     "name": "stdout",
     "output_type": "stream",
     "text": [
      "[(1, 25.85663233130124), (2, 25.85663233130124), (3, 25.69896993903721), (4, 22.58776539836031)]\n"
     ]
    }
   ],
   "source": [
    "hist = Counter(label)\n",
    "dist = [(i, hist[i] / len(label) * 100.0) for i in hist]\n",
    "dist = sorted(dist, key=lambda tup: tup[0])\n",
    "print(dist)"
   ]
  },
  {
   "cell_type": "code",
   "execution_count": null,
   "id": "3982f376-3e27-4911-b9cf-9f7448c97743",
   "metadata": {},
   "outputs": [],
   "source": []
  },
  {
   "cell_type": "code",
   "execution_count": null,
   "id": "13f585d3-edb4-4111-81ed-195cab2661c4",
   "metadata": {},
   "outputs": [],
   "source": []
  }
 ],
 "metadata": {
  "kernelspec": {
   "display_name": "Python 3 (ipykernel)",
   "language": "python",
   "name": "python3"
  },
  "language_info": {
   "codemirror_mode": {
    "name": "ipython",
    "version": 3
   },
   "file_extension": ".py",
   "mimetype": "text/x-python",
   "name": "python",
   "nbconvert_exporter": "python",
   "pygments_lexer": "ipython3",
   "version": "3.9.7"
  }
 },
 "nbformat": 4,
 "nbformat_minor": 5
}
