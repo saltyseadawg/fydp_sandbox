{
 "cells": [
  {
   "cell_type": "code",
   "execution_count": 1,
   "id": "5413f3c7-7836-4d3c-93c9-0068086278e3",
   "metadata": {},
   "outputs": [
    {
     "name": "stdout",
     "output_type": "stream",
     "text": [
      "/app\n"
     ]
    }
   ],
   "source": [
    "%cd .."
   ]
  },
  {
   "cell_type": "code",
   "execution_count": 4,
   "id": "a10ec061-d2e0-49d4-92f5-7b81c1e3299c",
   "metadata": {},
   "outputs": [],
   "source": [
    "import pandas as pd"
   ]
  },
  {
   "cell_type": "code",
   "execution_count": 6,
   "id": "87f8933b-a0d8-4da8-80cc-27a365089cda",
   "metadata": {},
   "outputs": [
    {
     "data": {
      "text/html": [
       "<div>\n",
       "<style scoped>\n",
       "    .dataframe tbody tr th:only-of-type {\n",
       "        vertical-align: middle;\n",
       "    }\n",
       "\n",
       "    .dataframe tbody tr th {\n",
       "        vertical-align: top;\n",
       "    }\n",
       "\n",
       "    .dataframe thead th {\n",
       "        text-align: right;\n",
       "    }\n",
       "</style>\n",
       "<table border=\"1\" class=\"dataframe\">\n",
       "  <thead>\n",
       "    <tr style=\"text-align: right;\">\n",
       "      <th></th>\n",
       "      <th>Name</th>\n",
       "      <th>Date</th>\n",
       "      <th>Type</th>\n",
       "      <th>Preprocessing</th>\n",
       "      <th>Train Size</th>\n",
       "      <th>Accuracy</th>\n",
       "      <th>Train Distribution</th>\n",
       "      <th>Test Distribtuion</th>\n",
       "      <th>Train Number</th>\n",
       "      <th>Test Number</th>\n",
       "    </tr>\n",
       "  </thead>\n",
       "  <tbody>\n",
       "    <tr>\n",
       "      <th>0</th>\n",
       "      <td>svm_10_none</td>\n",
       "      <td>1970-01-01 00:27:27.641044</td>\n",
       "      <td>svm</td>\n",
       "      <td>none</td>\n",
       "      <td>0.1</td>\n",
       "      <td>0.939468</td>\n",
       "      <td>[25.9726603575, 26.603575184, 24.3953732913, 2...</td>\n",
       "      <td>[25.8437463506, 25.7736774495, 25.8437463506, ...</td>\n",
       "      <td>951</td>\n",
       "      <td>8563</td>\n",
       "    </tr>\n",
       "    <tr>\n",
       "      <th>1</th>\n",
       "      <td>svm_80_lda</td>\n",
       "      <td>2022-03-18 22:04:44.000000</td>\n",
       "      <td>svm</td>\n",
       "      <td>lda</td>\n",
       "      <td>0.8</td>\n",
       "      <td>0.961887</td>\n",
       "      <td>[26.0543949547, 25.778478517899998, 25.4500065...</td>\n",
       "      <td>[25.0656857593, 26.169206516, 26.6946925906, 2...</td>\n",
       "      <td>7611</td>\n",
       "      <td>1903</td>\n",
       "    </tr>\n",
       "  </tbody>\n",
       "</table>\n",
       "</div>"
      ],
      "text/plain": [
       "          Name                       Date Type Preprocessing  Train Size  \\\n",
       "0  svm_10_none 1970-01-01 00:27:27.641044  svm          none         0.1   \n",
       "1   svm_80_lda 2022-03-18 22:04:44.000000  svm           lda         0.8   \n",
       "\n",
       "   Accuracy                                 Train Distribution  \\\n",
       "0  0.939468  [25.9726603575, 26.603575184, 24.3953732913, 2...   \n",
       "1  0.961887  [26.0543949547, 25.778478517899998, 25.4500065...   \n",
       "\n",
       "                                   Test Distribtuion  Train Number  \\\n",
       "0  [25.8437463506, 25.7736774495, 25.8437463506, ...           951   \n",
       "1  [25.0656857593, 26.169206516, 26.6946925906, 2...          7611   \n",
       "\n",
       "   Test Number  \n",
       "0         8563  \n",
       "1         1903  "
      ]
     },
     "metadata": {},
     "output_type": "display_data"
    }
   ],
   "source": [
    "data = pd.read_json('tonami/data/model_metadata.json', orient=\"index\")\n",
    "display(data)"
   ]
  },
  {
   "cell_type": "code",
   "execution_count": null,
   "id": "af69e31d-6f9a-4546-a303-0da77efc16dd",
   "metadata": {},
   "outputs": [],
   "source": []
  },
  {
   "cell_type": "code",
   "execution_count": null,
   "id": "dcc43622-ed8e-4d8b-be89-4f20495c7c60",
   "metadata": {},
   "outputs": [],
   "source": []
  }
 ],
 "metadata": {
  "kernelspec": {
   "display_name": "Python 3 (ipykernel)",
   "language": "python",
   "name": "python3"
  },
  "language_info": {
   "codemirror_mode": {
    "name": "ipython",
    "version": 3
   },
   "file_extension": ".py",
   "mimetype": "text/x-python",
   "name": "python",
   "nbconvert_exporter": "python",
   "pygments_lexer": "ipython3",
   "version": "3.9.7"
  }
 },
 "nbformat": 4,
 "nbformat_minor": 5
}
