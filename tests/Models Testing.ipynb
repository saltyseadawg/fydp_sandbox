{
 "cells": [
  {
   "cell_type": "markdown",
   "id": "b6862444-b36e-4c7b-8876-1fbfe0617d83",
   "metadata": {
    "tags": []
   },
   "source": [
    "# Set-up"
   ]
  },
  {
   "cell_type": "code",
   "execution_count": 1,
   "id": "f0868a00-b7fd-4216-9fe3-611c46c98675",
   "metadata": {},
   "outputs": [
    {
     "name": "stdout",
     "output_type": "stream",
     "text": [
      "/app\n"
     ]
    }
   ],
   "source": [
    "%cd .."
   ]
  },
  {
   "cell_type": "code",
   "execution_count": 4,
   "id": "91121917-0060-4fca-a474-11fa8e90fa4d",
   "metadata": {},
   "outputs": [],
   "source": [
    "from pickle import NONE\n",
    "import librosa\n",
    "import pandas as pd\n",
    "import numpy as np\n",
    "import numpy.typing as npt\n",
    "from typing import Tuple, Union\n",
    "from pydub import AudioSegment\n",
    "import os\n",
    "import time\n",
    "import sklearn\n",
    "from sklearn.discriminant_analysis import LinearDiscriminantAnalysis as LDA\n",
    "\n",
    "from tonami import pitch_process as pp\n",
    "from tonami import audio_utils\n",
    "from tonami.Classifier import PITCH_FILEPATH\n",
    "from tonami import Classifier as c\n",
    "from tonami import build_classifiers as bc\n",
    "from tonami import user\n",
    "from tonami import Utterance as u\n",
    "from tonami import build_classifiers as bc\n",
    "import matplotlib.pyplot as plt"
   ]
  },
  {
   "cell_type": "code",
   "execution_count": null,
   "id": "339449aa-71b9-4ed3-a7d6-e8d30aceccbc",
   "metadata": {},
   "outputs": [],
   "source": []
  },
  {
   "cell_type": "markdown",
   "id": "bed208ef-a807-4329-8eb6-1accc4f00adf",
   "metadata": {
    "tags": []
   },
   "source": [
    "# All generated data"
   ]
  },
  {
   "cell_type": "code",
   "execution_count": 61,
   "id": "81f70881-118e-4e95-999b-764bc03cb78c",
   "metadata": {},
   "outputs": [],
   "source": [
    "# consolidate data\n",
    "user_audio_df = pd.DataFrame(user_audio_dict)\n",
    "raw_data_df = pd.DataFrame(raw_data_dict)\n",
    "times_df = pd.DataFrame(times_dict)"
   ]
  },
  {
   "cell_type": "markdown",
   "id": "74342293-9072-4b69-80ab-40dcc398cf24",
   "metadata": {
    "tags": []
   },
   "source": [
    "## With Outliers"
   ]
  },
  {
   "cell_type": "markdown",
   "id": "2c1ec662-fe83-4a8b-bf45-7502a9e9c243",
   "metadata": {
    "tags": []
   },
   "source": [
    "### User Audio"
   ]
  },
  {
   "cell_type": "code",
   "execution_count": 62,
   "id": "59d3ae0f-aaff-4e32-9e5a-c4598e293468",
   "metadata": {},
   "outputs": [
    {
     "data": {
      "text/html": [
       "<div>\n",
       "<style scoped>\n",
       "    .dataframe tbody tr th:only-of-type {\n",
       "        vertical-align: middle;\n",
       "    }\n",
       "\n",
       "    .dataframe tbody tr th {\n",
       "        vertical-align: top;\n",
       "    }\n",
       "\n",
       "    .dataframe thead th {\n",
       "        text-align: right;\n",
       "    }\n",
       "</style>\n",
       "<table border=\"1\" class=\"dataframe\">\n",
       "  <thead>\n",
       "    <tr style=\"text-align: right;\">\n",
       "      <th></th>\n",
       "      <th>Filename</th>\n",
       "      <th>Durations</th>\n",
       "      <th>Filtered Durations</th>\n",
       "    </tr>\n",
       "  </thead>\n",
       "  <tbody>\n",
       "    <tr>\n",
       "      <th>0</th>\n",
       "      <td>2022-03-05_06:58:51.mp3</td>\n",
       "      <td>1.58</td>\n",
       "      <td>0.185760</td>\n",
       "    </tr>\n",
       "    <tr>\n",
       "      <th>1</th>\n",
       "      <td>2022-03-05_07:01:24.mp3</td>\n",
       "      <td>1.36</td>\n",
       "      <td>0.185760</td>\n",
       "    </tr>\n",
       "    <tr>\n",
       "      <th>2</th>\n",
       "      <td>2022-03-05_07:03:11.mp3</td>\n",
       "      <td>2.08</td>\n",
       "      <td>0.208980</td>\n",
       "    </tr>\n",
       "    <tr>\n",
       "      <th>3</th>\n",
       "      <td>ex10_wu3_2022-03-01_00:18:09.mp3</td>\n",
       "      <td>2.84</td>\n",
       "      <td>0.464399</td>\n",
       "    </tr>\n",
       "    <tr>\n",
       "      <th>4</th>\n",
       "      <td>ex10_wu3_2022-03-01_00:18:26.mp3</td>\n",
       "      <td>2.92</td>\n",
       "      <td>0.534059</td>\n",
       "    </tr>\n",
       "    <tr>\n",
       "      <th>...</th>\n",
       "      <td>...</td>\n",
       "      <td>...</td>\n",
       "      <td>...</td>\n",
       "    </tr>\n",
       "    <tr>\n",
       "      <th>540</th>\n",
       "      <td>ex9_gan4_2022-03-03_19:35:36.mp3</td>\n",
       "      <td>2.42</td>\n",
       "      <td>0.185760</td>\n",
       "    </tr>\n",
       "    <tr>\n",
       "      <th>541</th>\n",
       "      <td>ex9_gan4_2022-03-03_19:36:18.mp3</td>\n",
       "      <td>2.92</td>\n",
       "      <td>0.208980</td>\n",
       "    </tr>\n",
       "    <tr>\n",
       "      <th>542</th>\n",
       "      <td>ex9_gan4_2022-03-04_01:21:10.mp3</td>\n",
       "      <td>1.84</td>\n",
       "      <td>0.348299</td>\n",
       "    </tr>\n",
       "    <tr>\n",
       "      <th>543</th>\n",
       "      <td>ex9_gan4_2022-03-04_01:21:36.mp3</td>\n",
       "      <td>2.06</td>\n",
       "      <td>0.208980</td>\n",
       "    </tr>\n",
       "    <tr>\n",
       "      <th>544</th>\n",
       "      <td>ex9_gan4_2022-03-04_01:22:05.mp3</td>\n",
       "      <td>2.22</td>\n",
       "      <td>0.255420</td>\n",
       "    </tr>\n",
       "  </tbody>\n",
       "</table>\n",
       "<p>545 rows × 3 columns</p>\n",
       "</div>"
      ],
      "text/plain": [
       "                             Filename  Durations  Filtered Durations\n",
       "0             2022-03-05_06:58:51.mp3       1.58            0.185760\n",
       "1             2022-03-05_07:01:24.mp3       1.36            0.185760\n",
       "2             2022-03-05_07:03:11.mp3       2.08            0.208980\n",
       "3    ex10_wu3_2022-03-01_00:18:09.mp3       2.84            0.464399\n",
       "4    ex10_wu3_2022-03-01_00:18:26.mp3       2.92            0.534059\n",
       "..                                ...        ...                 ...\n",
       "540  ex9_gan4_2022-03-03_19:35:36.mp3       2.42            0.185760\n",
       "541  ex9_gan4_2022-03-03_19:36:18.mp3       2.92            0.208980\n",
       "542  ex9_gan4_2022-03-04_01:21:10.mp3       1.84            0.348299\n",
       "543  ex9_gan4_2022-03-04_01:21:36.mp3       2.06            0.208980\n",
       "544  ex9_gan4_2022-03-04_01:22:05.mp3       2.22            0.255420\n",
       "\n",
       "[545 rows x 3 columns]"
      ]
     },
     "metadata": {},
     "output_type": "display_data"
    }
   ],
   "source": [
    "display(user_audio_df)"
   ]
  },
  {
   "cell_type": "code",
   "execution_count": 63,
   "id": "f7862689-e22a-4e5e-ae4c-3d3fceedf864",
   "metadata": {},
   "outputs": [
    {
     "data": {
      "image/png": "[encoded data removed]",
      "text/plain": [
       "<Figure size 432x288 with 1 Axes>"
      ]
     },
     "metadata": {
      "needs_background": "light"
     },
     "output_type": "display_data"
    },
    {
     "name": "stdout",
     "output_type": "stream",
     "text": [
      "[ 51. 315. 139.  32.   3.   3.   0.   0.   1.   1.]\n",
      "[ 0.56  1.75  2.94  4.13  5.32  6.51  7.7   8.89 10.08 11.27 12.46]\n"
     ]
    }
   ],
   "source": [
    "n, bins, _ = plt.hist(user_audio_df['Durations'])\n",
    "plt.show() \n",
    "print(n)\n",
    "print(bins)"
   ]
  },
  {
   "cell_type": "code",
   "execution_count": 64,
   "id": "e07255c5-de13-420c-9894-59ac15e4e58f",
   "metadata": {},
   "outputs": [
    {
     "data": {
      "image/png": "[encoded data removed]",
      "text/plain": [
       "<Figure size 432x288 with 1 Axes>"
      ]
     },
     "metadata": {
      "needs_background": "light"
     },
     "output_type": "display_data"
    }
   ],
   "source": [
    "plt.scatter(user_audio_df['Durations'], times_df['load'])\n",
    "plt.show()"
   ]
  },
  {
   "cell_type": "code",
   "execution_count": 65,
   "id": "a79f7b78-bd7b-4fd6-8611-1b8653add500",
   "metadata": {},
   "outputs": [
    {
     "data": {
      "image/png": "[encoded data removed]",
      "text/plain": [
       "<Figure size 432x288 with 1 Axes>"
      ]
     },
     "metadata": {
      "needs_background": "light"
     },
     "output_type": "display_data"
    },
    {
     "name": "stdout",
     "output_type": "stream",
     "text": [
      "[539.   4.   1.   0.   0.   0.   0.   0.   0.   1.]\n",
      "[ 0.09287982  1.17028571  2.24769161  3.32509751  4.4025034   5.4799093\n",
      "  6.55731519  7.63472109  8.71212698  9.78953288 10.86693878]\n"
     ]
    }
   ],
   "source": [
    "n, bins, _ = plt.hist(user_audio_df['Filtered Durations'])\n",
    "plt.show() \n",
    "print(n)\n",
    "print(bins)"
   ]
  },
  {
   "cell_type": "code",
   "execution_count": 66,
   "id": "a7c1c8d9-066e-43e6-a356-bc2257e388ed",
   "metadata": {},
   "outputs": [
    {
     "data": {
      "image/png": "[encoded data removed]",
      "text/plain": [
       "<Figure size 432x288 with 1 Axes>"
      ]
     },
     "metadata": {
      "needs_background": "light"
     },
     "output_type": "display_data"
    }
   ],
   "source": [
    "plt.scatter(user_audio_df['Filtered Durations'], times_df['contour'])\n",
    "plt.show()"
   ]
  },
  {
   "cell_type": "markdown",
   "id": "cf2f57eb-8778-48d4-822d-f6246a5e817b",
   "metadata": {
    "tags": []
   },
   "source": [
    "### Raw Data"
   ]
  },
  {
   "cell_type": "code",
   "execution_count": 67,
   "id": "961117a7-168c-4ee5-a2bb-f42807f213fe",
   "metadata": {},
   "outputs": [
    {
     "data": {
      "text/html": [
       "<div>\n",
       "<style scoped>\n",
       "    .dataframe tbody tr th:only-of-type {\n",
       "        vertical-align: middle;\n",
       "    }\n",
       "\n",
       "    .dataframe tbody tr th {\n",
       "        vertical-align: top;\n",
       "    }\n",
       "\n",
       "    .dataframe thead th {\n",
       "        text-align: right;\n",
       "    }\n",
       "</style>\n",
       "<table border=\"1\" class=\"dataframe\">\n",
       "  <thead>\n",
       "    <tr style=\"text-align: right;\">\n",
       "      <th></th>\n",
       "      <th>Time Series</th>\n",
       "      <th>Filtered Time Series</th>\n",
       "      <th>Pitch Contours</th>\n",
       "      <th>Normalized Pitch</th>\n",
       "      <th>Nans</th>\n",
       "      <th>Features</th>\n",
       "    </tr>\n",
       "  </thead>\n",
       "  <tbody>\n",
       "    <tr>\n",
       "      <th>0</th>\n",
       "      <td>[1.3977235e-07, -1.6893404e-07, 1.9791972e-07,...</td>\n",
       "      <td>[-0.006015002, -0.0067452397, -0.0077910842, -...</td>\n",
       "      <td>[nan, nan, nan, 89.60596419119524, 89.60596419...</td>\n",
       "      <td>[[3.5009614209204045, 3.5009614209204045, 3.50...</td>\n",
       "      <td>[True, True, True, False, False, False, False,...</td>\n",
       "      <td>[[3.5009614209204045, 3.5098437537009346, 3.52...</td>\n",
       "    </tr>\n",
       "    <tr>\n",
       "      <th>1</th>\n",
       "      <td>[-9.661199e-08, 2.3216649e-07, -4.3016217e-07,...</td>\n",
       "      <td>[-0.007913667, -0.01239815, -0.011122777, -0.0...</td>\n",
       "      <td>[nan, nan, nan, nan, 177.1535038204721, 177.15...</td>\n",
       "      <td>[[1.7496094176392947, 1.7496094176392947, 1.74...</td>\n",
       "      <td>[True, True, True, True, False, False, False, ...</td>\n",
       "      <td>[[1.7496094176392945, 1.7386439167102328, 1.69...</td>\n",
       "    </tr>\n",
       "    <tr>\n",
       "      <th>2</th>\n",
       "      <td>[1.2223254e-07, -1.4356887e-07, 1.6408815e-07,...</td>\n",
       "      <td>[-0.02271522, -0.035587482, -0.02684846, -0.02...</td>\n",
       "      <td>[nan, nan, nan, nan, nan, nan, nan, nan, nan, ...</td>\n",
       "      <td>[[nan, nan, nan, nan, nan, nan, nan, nan, nan,...</td>\n",
       "      <td>[True, True, True, True, True, True, True, Tru...</td>\n",
       "      <td>[[nan, nan, nan, nan, nan, nan]]</td>\n",
       "    </tr>\n",
       "    <tr>\n",
       "      <th>3</th>\n",
       "      <td>[3.5554133e-06, -1.6102125e-05, -3.8875164e-06...</td>\n",
       "      <td>[-0.01174777, -0.021985484, -0.029291227, -0.0...</td>\n",
       "      <td>[nan, 108.42268703014184, 109.68249796946259, ...</td>\n",
       "      <td>[[nan, nan, nan, nan, nan, nan, nan, nan, nan,...</td>\n",
       "      <td>[True, False, False, False, False, False, Fals...</td>\n",
       "      <td>[[nan, nan, nan, nan, nan, nan]]</td>\n",
       "    </tr>\n",
       "    <tr>\n",
       "      <th>4</th>\n",
       "      <td>[7.8282305e-08, -9.000064e-08, 1.00353624e-07,...</td>\n",
       "      <td>[6.7629444e-05, 0.002870746, 0.0056687947, 0.0...</td>\n",
       "      <td>[nan, 104.72941228206267, 104.12621525348065, ...</td>\n",
       "      <td>[[nan, nan, nan, nan, nan, nan, nan, nan, nan,...</td>\n",
       "      <td>[True, False, False, False, False, False, Fals...</td>\n",
       "      <td>[[nan, nan, nan, nan, nan, nan]]</td>\n",
       "    </tr>\n",
       "    <tr>\n",
       "      <th>...</th>\n",
       "      <td>...</td>\n",
       "      <td>...</td>\n",
       "      <td>...</td>\n",
       "      <td>...</td>\n",
       "      <td>...</td>\n",
       "      <td>...</td>\n",
       "    </tr>\n",
       "    <tr>\n",
       "      <th>540</th>\n",
       "      <td>[-2.625508e-06, -2.283729e-05, -6.255846e-06, ...</td>\n",
       "      <td>[0.18586472, 0.17913696, 0.16346836, 0.1316242...</td>\n",
       "      <td>[nan, 250.53288772482563, 253.44393965741244, ...</td>\n",
       "      <td>[[0.8531271662415318, 0.8411710708924227, 0.82...</td>\n",
       "      <td>[True, False, False, False, False, False, Fals...</td>\n",
       "      <td>[[0.8401863127848892, 0.8095315148209564, 0.83...</td>\n",
       "    </tr>\n",
       "    <tr>\n",
       "      <th>541</th>\n",
       "      <td>[9.3057e-06, 9.258277e-06, -5.0076005e-06, 5.5...</td>\n",
       "      <td>[-0.036951177, -0.036396816, -0.043634284, -0....</td>\n",
       "      <td>[nan, 301.3973362949152, 301.3973362949152, 30...</td>\n",
       "      <td>[[0.38414853372520935, 0.38414853372520935, 0....</td>\n",
       "      <td>[True, False, False, False, False, False, Fals...</td>\n",
       "      <td>[[0.38488891940112463, 0.4281334035315094, 0.6...</td>\n",
       "    </tr>\n",
       "    <tr>\n",
       "      <th>542</th>\n",
       "      <td>[9.6540155e-08, -1.14747415e-07, 1.3331108e-07...</td>\n",
       "      <td>[-0.026051711, -0.029187553, -0.036844507, -0....</td>\n",
       "      <td>[nan, 155.11447618337345, 158.74010519681997, ...</td>\n",
       "      <td>[[nan, nan, nan, nan, nan, nan, nan, nan, nan,...</td>\n",
       "      <td>[True, False, False, False, False, False, Fals...</td>\n",
       "      <td>[[nan, nan, nan, nan, nan, nan]]</td>\n",
       "    </tr>\n",
       "    <tr>\n",
       "      <th>543</th>\n",
       "      <td>[3.1495745e-08, -4.2454158e-08, 5.4979235e-08,...</td>\n",
       "      <td>[-0.0021418293, 0.019164437, 0.03373158, 0.037...</td>\n",
       "      <td>[nan, nan, nan, nan, nan, nan, nan, nan, nan, ...</td>\n",
       "      <td>[[nan, nan, nan, nan, nan, nan, nan, nan, nan,...</td>\n",
       "      <td>[True, True, True, True, True, True, True, Tru...</td>\n",
       "      <td>[[nan, nan, nan, nan, nan, nan]]</td>\n",
       "    </tr>\n",
       "    <tr>\n",
       "      <th>544</th>\n",
       "      <td>[-3.0844933e-09, -2.0809473e-08, 5.1349357e-08...</td>\n",
       "      <td>[0.010545247, -0.03854397, -0.08262907, -0.115...</td>\n",
       "      <td>[nan, 194.30638823072118, 193.1872657849691, 1...</td>\n",
       "      <td>[[1.5150995022709397, 1.5297879654297715, 1.55...</td>\n",
       "      <td>[True, False, False, False, False, False, Fals...</td>\n",
       "      <td>[[1.545221854525192, 1.754458937857333, 2.1424...</td>\n",
       "    </tr>\n",
       "  </tbody>\n",
       "</table>\n",
       "<p>545 rows × 6 columns</p>\n",
       "</div>"
      ],
      "text/plain": [
       "                                           Time Series  \\\n",
       "0    [1.3977235e-07, -1.6893404e-07, 1.9791972e-07,...   \n",
       "1    [-9.661199e-08, 2.3216649e-07, -4.3016217e-07,...   \n",
       "2    [1.2223254e-07, -1.4356887e-07, 1.6408815e-07,...   \n",
       "3    [3.5554133e-06, -1.6102125e-05, -3.8875164e-06...   \n",
       "4    [7.8282305e-08, -9.000064e-08, 1.00353624e-07,...   \n",
       "..                                                 ...   \n",
       "540  [-2.625508e-06, -2.283729e-05, -6.255846e-06, ...   \n",
       "541  [9.3057e-06, 9.258277e-06, -5.0076005e-06, 5.5...   \n",
       "542  [9.6540155e-08, -1.14747415e-07, 1.3331108e-07...   \n",
       "543  [3.1495745e-08, -4.2454158e-08, 5.4979235e-08,...   \n",
       "544  [-3.0844933e-09, -2.0809473e-08, 5.1349357e-08...   \n",
       "\n",
       "                                  Filtered Time Series  \\\n",
       "0    [-0.006015002, -0.0067452397, -0.0077910842, -...   \n",
       "1    [-0.007913667, -0.01239815, -0.011122777, -0.0...   \n",
       "2    [-0.02271522, -0.035587482, -0.02684846, -0.02...   \n",
       "3    [-0.01174777, -0.021985484, -0.029291227, -0.0...   \n",
       "4    [6.7629444e-05, 0.002870746, 0.0056687947, 0.0...   \n",
       "..                                                 ...   \n",
       "540  [0.18586472, 0.17913696, 0.16346836, 0.1316242...   \n",
       "541  [-0.036951177, -0.036396816, -0.043634284, -0....   \n",
       "542  [-0.026051711, -0.029187553, -0.036844507, -0....   \n",
       "543  [-0.0021418293, 0.019164437, 0.03373158, 0.037...   \n",
       "544  [0.010545247, -0.03854397, -0.08262907, -0.115...   \n",
       "\n",
       "                                        Pitch Contours  \\\n",
       "0    [nan, nan, nan, 89.60596419119524, 89.60596419...   \n",
       "1    [nan, nan, nan, nan, 177.1535038204721, 177.15...   \n",
       "2    [nan, nan, nan, nan, nan, nan, nan, nan, nan, ...   \n",
       "3    [nan, 108.42268703014184, 109.68249796946259, ...   \n",
       "4    [nan, 104.72941228206267, 104.12621525348065, ...   \n",
       "..                                                 ...   \n",
       "540  [nan, 250.53288772482563, 253.44393965741244, ...   \n",
       "541  [nan, 301.3973362949152, 301.3973362949152, 30...   \n",
       "542  [nan, 155.11447618337345, 158.74010519681997, ...   \n",
       "543  [nan, nan, nan, nan, nan, nan, nan, nan, nan, ...   \n",
       "544  [nan, 194.30638823072118, 193.1872657849691, 1...   \n",
       "\n",
       "                                      Normalized Pitch  \\\n",
       "0    [[3.5009614209204045, 3.5009614209204045, 3.50...   \n",
       "1    [[1.7496094176392947, 1.7496094176392947, 1.74...   \n",
       "2    [[nan, nan, nan, nan, nan, nan, nan, nan, nan,...   \n",
       "3    [[nan, nan, nan, nan, nan, nan, nan, nan, nan,...   \n",
       "4    [[nan, nan, nan, nan, nan, nan, nan, nan, nan,...   \n",
       "..                                                 ...   \n",
       "540  [[0.8531271662415318, 0.8411710708924227, 0.82...   \n",
       "541  [[0.38414853372520935, 0.38414853372520935, 0....   \n",
       "542  [[nan, nan, nan, nan, nan, nan, nan, nan, nan,...   \n",
       "543  [[nan, nan, nan, nan, nan, nan, nan, nan, nan,...   \n",
       "544  [[1.5150995022709397, 1.5297879654297715, 1.55...   \n",
       "\n",
       "                                                  Nans  \\\n",
       "0    [True, True, True, False, False, False, False,...   \n",
       "1    [True, True, True, True, False, False, False, ...   \n",
       "2    [True, True, True, True, True, True, True, Tru...   \n",
       "3    [True, False, False, False, False, False, Fals...   \n",
       "4    [True, False, False, False, False, False, Fals...   \n",
       "..                                                 ...   \n",
       "540  [True, False, False, False, False, False, Fals...   \n",
       "541  [True, False, False, False, False, False, Fals...   \n",
       "542  [True, False, False, False, False, False, Fals...   \n",
       "543  [True, True, True, True, True, True, True, Tru...   \n",
       "544  [True, False, False, False, False, False, Fals...   \n",
       "\n",
       "                                              Features  \n",
       "0    [[3.5009614209204045, 3.5098437537009346, 3.52...  \n",
       "1    [[1.7496094176392945, 1.7386439167102328, 1.69...  \n",
       "2                     [[nan, nan, nan, nan, nan, nan]]  \n",
       "3                     [[nan, nan, nan, nan, nan, nan]]  \n",
       "4                     [[nan, nan, nan, nan, nan, nan]]  \n",
       "..                                                 ...  \n",
       "540  [[0.8401863127848892, 0.8095315148209564, 0.83...  \n",
       "541  [[0.38488891940112463, 0.4281334035315094, 0.6...  \n",
       "542                   [[nan, nan, nan, nan, nan, nan]]  \n",
       "543                   [[nan, nan, nan, nan, nan, nan]]  \n",
       "544  [[1.545221854525192, 1.754458937857333, 2.1424...  \n",
       "\n",
       "[545 rows x 6 columns]"
      ]
     },
     "metadata": {},
     "output_type": "display_data"
    }
   ],
   "source": [
    "display(raw_data_df)"
   ]
  },
  {
   "cell_type": "markdown",
   "id": "45cfe55e-ff8d-4996-8a3f-f42d3581e6de",
   "metadata": {
    "tags": []
   },
   "source": [
    "### Times"
   ]
  },
  {
   "cell_type": "code",
   "execution_count": 68,
   "id": "a84f27c4-333e-48a4-8a9a-e0e124a7d26b",
   "metadata": {},
   "outputs": [
    {
     "data": {
      "text/html": [
       "<div>\n",
       "<style scoped>\n",
       "    .dataframe tbody tr th:only-of-type {\n",
       "        vertical-align: middle;\n",
       "    }\n",
       "\n",
       "    .dataframe tbody tr th {\n",
       "        vertical-align: top;\n",
       "    }\n",
       "\n",
       "    .dataframe thead th {\n",
       "        text-align: right;\n",
       "    }\n",
       "</style>\n",
       "<table border=\"1\" class=\"dataframe\">\n",
       "  <thead>\n",
       "    <tr style=\"text-align: right;\">\n",
       "      <th></th>\n",
       "      <th>load</th>\n",
       "      <th>trim</th>\n",
       "      <th>contour</th>\n",
       "      <th>preprocess</th>\n",
       "      <th>total</th>\n",
       "    </tr>\n",
       "  </thead>\n",
       "  <tbody>\n",
       "    <tr>\n",
       "      <th>0</th>\n",
       "      <td>0.793528</td>\n",
       "      <td>0.002044</td>\n",
       "      <td>0.087521</td>\n",
       "      <td>0.002220</td>\n",
       "      <td>0.656422</td>\n",
       "    </tr>\n",
       "    <tr>\n",
       "      <th>1</th>\n",
       "      <td>0.194055</td>\n",
       "      <td>0.001006</td>\n",
       "      <td>0.058846</td>\n",
       "      <td>0.000479</td>\n",
       "      <td>0.281823</td>\n",
       "    </tr>\n",
       "    <tr>\n",
       "      <th>2</th>\n",
       "      <td>0.230877</td>\n",
       "      <td>0.000876</td>\n",
       "      <td>0.058458</td>\n",
       "      <td>0.000238</td>\n",
       "      <td>0.316403</td>\n",
       "    </tr>\n",
       "    <tr>\n",
       "      <th>3</th>\n",
       "      <td>0.254836</td>\n",
       "      <td>0.000631</td>\n",
       "      <td>0.075367</td>\n",
       "      <td>0.000701</td>\n",
       "      <td>0.346250</td>\n",
       "    </tr>\n",
       "    <tr>\n",
       "      <th>4</th>\n",
       "      <td>0.254812</td>\n",
       "      <td>0.000621</td>\n",
       "      <td>0.078201</td>\n",
       "      <td>0.000267</td>\n",
       "      <td>0.359527</td>\n",
       "    </tr>\n",
       "    <tr>\n",
       "      <th>...</th>\n",
       "      <td>...</td>\n",
       "      <td>...</td>\n",
       "      <td>...</td>\n",
       "      <td>...</td>\n",
       "      <td>...</td>\n",
       "    </tr>\n",
       "    <tr>\n",
       "      <th>540</th>\n",
       "      <td>0.245411</td>\n",
       "      <td>0.000411</td>\n",
       "      <td>0.058727</td>\n",
       "      <td>0.000103</td>\n",
       "      <td>0.315604</td>\n",
       "    </tr>\n",
       "    <tr>\n",
       "      <th>541</th>\n",
       "      <td>0.259371</td>\n",
       "      <td>0.000418</td>\n",
       "      <td>0.058394</td>\n",
       "      <td>0.000103</td>\n",
       "      <td>0.336679</td>\n",
       "    </tr>\n",
       "    <tr>\n",
       "      <th>542</th>\n",
       "      <td>0.233043</td>\n",
       "      <td>0.000425</td>\n",
       "      <td>0.067304</td>\n",
       "      <td>0.000091</td>\n",
       "      <td>0.306950</td>\n",
       "    </tr>\n",
       "    <tr>\n",
       "      <th>543</th>\n",
       "      <td>0.235301</td>\n",
       "      <td>0.000428</td>\n",
       "      <td>0.058375</td>\n",
       "      <td>0.000090</td>\n",
       "      <td>0.307741</td>\n",
       "    </tr>\n",
       "    <tr>\n",
       "      <th>544</th>\n",
       "      <td>0.236400</td>\n",
       "      <td>0.000431</td>\n",
       "      <td>0.062669</td>\n",
       "      <td>0.000108</td>\n",
       "      <td>0.316489</td>\n",
       "    </tr>\n",
       "  </tbody>\n",
       "</table>\n",
       "<p>545 rows × 5 columns</p>\n",
       "</div>"
      ],
      "text/plain": [
       "         load      trim   contour  preprocess     total\n",
       "0    0.793528  0.002044  0.087521    0.002220  0.656422\n",
       "1    0.194055  0.001006  0.058846    0.000479  0.281823\n",
       "2    0.230877  0.000876  0.058458    0.000238  0.316403\n",
       "3    0.254836  0.000631  0.075367    0.000701  0.346250\n",
       "4    0.254812  0.000621  0.078201    0.000267  0.359527\n",
       "..        ...       ...       ...         ...       ...\n",
       "540  0.245411  0.000411  0.058727    0.000103  0.315604\n",
       "541  0.259371  0.000418  0.058394    0.000103  0.336679\n",
       "542  0.233043  0.000425  0.067304    0.000091  0.306950\n",
       "543  0.235301  0.000428  0.058375    0.000090  0.307741\n",
       "544  0.236400  0.000431  0.062669    0.000108  0.316489\n",
       "\n",
       "[545 rows x 5 columns]"
      ]
     },
     "metadata": {},
     "output_type": "display_data"
    }
   ],
   "source": [
    "display(times_df)"
   ]
  },
  {
   "cell_type": "markdown",
   "id": "56de8f20-323a-4de6-a933-d0f0209b1826",
   "metadata": {
    "tags": []
   },
   "source": [
    "## Without Outliers"
   ]
  },
  {
   "cell_type": "code",
   "execution_count": 75,
   "id": "1a7f054e-03fc-42d6-b560-d285ff869bfb",
   "metadata": {},
   "outputs": [
    {
     "name": "stdout",
     "output_type": "stream",
     "text": [
      "Num of outliers:  14\n"
     ]
    }
   ],
   "source": [
    "outliers = user_audio_df[user_audio_df['Filtered Durations'] > 0.8].index\n",
    "print(\"Num of outliers: \", len(outliers))\n",
    "user_audio_df_fix = user_audio_df.drop(outliers)\n",
    "raw_data_df_fix = raw_data_df.drop(outliers)\n",
    "times_df_fix = times_df.drop(outliers)"
   ]
  },
  {
   "cell_type": "markdown",
   "id": "eaa6dcd4-7a80-414c-9d7c-3ea1ce550c70",
   "metadata": {},
   "source": [
    "### User Audio"
   ]
  },
  {
   "cell_type": "code",
   "execution_count": 76,
   "id": "e6b19f53-fee4-49c9-a830-1a1c50d55d2f",
   "metadata": {},
   "outputs": [
    {
     "data": {
      "image/png": "[encoded data removed]",
      "text/plain": [
       "<Figure size 432x288 with 1 Axes>"
      ]
     },
     "metadata": {
      "needs_background": "light"
     },
     "output_type": "display_data"
    },
    {
     "name": "stdout",
     "output_type": "stream",
     "text": [
      "[ 50. 113.  99.  80.  72.  48.  33.  17.  14.   5.]\n",
      "[0.09287982 0.16253968 0.23219955 0.30185941 0.37151927 0.44117914\n",
      " 0.510839   0.58049887 0.65015873 0.71981859 0.78947846]\n"
     ]
    }
   ],
   "source": [
    "n, bins, _ = plt.hist(user_audio_df_fix['Filtered Durations'])\n",
    "plt.show() \n",
    "print(n)\n",
    "print(bins)"
   ]
  },
  {
   "cell_type": "markdown",
   "id": "98bf2682-414f-4757-853c-f96d3c7b5590",
   "metadata": {
    "tags": []
   },
   "source": [
    "# Report"
   ]
  },
  {
   "cell_type": "code",
   "execution_count": 77,
   "id": "be96adf8-1ce7-4f87-9c8a-0a9e9154f6f3",
   "metadata": {},
   "outputs": [
    {
     "name": "stdout",
     "output_type": "stream",
     "text": [
      "Audio File Statistics\n",
      "Quantity : 545\n",
      "Duration : 2.75 ± 1.03\n",
      "Filtered : 0.36 ± 0.50\n",
      "\n",
      "\n",
      "Audio File Statistics (w/o outliers)\n",
      "Quantity : 531\n",
      "Duration : 2.72 ± 0.92\n",
      "Filtered : 0.32 ± 0.15\n"
     ]
    }
   ],
   "source": [
    "# File report\n",
    "print(\"Audio File Statistics\")\n",
    "print(\"Quantity :\", user_audio_df.shape[0])\n",
    "print(\"Duration :\", \"%.2f\" % round(user_audio_df['Durations'].mean(), 2), u\"\\u00B1\", \"%.2f\" % round(user_audio_df['Durations'].std(), 2) )\n",
    "print(\"Filtered :\", \"%.2f\" % round(user_audio_df['Filtered Durations'].mean(), 2), u\"\\u00B1\", \"%.2f\" % round(user_audio_df['Filtered Durations'].std(), 2) )\n",
    "print(\"\\n\")\n",
    "\n",
    "print(\"Audio File Statistics (w/o outliers)\")\n",
    "print(\"Quantity :\", user_audio_df_fix.shape[0])\n",
    "print(\"Duration :\", \"%.2f\" % round(user_audio_df_fix['Durations'].mean(), 2), u\"\\u00B1\", \"%.2f\" % round(user_audio_df_fix['Durations'].std(), 2) )\n",
    "print(\"Filtered :\", \"%.2f\" % round(user_audio_df_fix['Filtered Durations'].mean(), 2), u\"\\u00B1\", \"%.2f\" % round(user_audio_df_fix['Filtered Durations'].std(), 2) )"
   ]
  },
  {
   "cell_type": "code",
   "execution_count": 78,
   "id": "20eb8cf4-d652-48b5-85e1-f29f69cdfb5b",
   "metadata": {},
   "outputs": [
    {
     "name": "stdout",
     "output_type": "stream",
     "text": [
      "Task Time Statistics (microseconds)\n",
      "      load : 254002 ±  44594\n",
      "      trim :    555 ±    268\n",
      "   contour :  69258 ±  34158\n",
      "preprocess :    130 ±    109\n",
      "     total : 350115 ±  70563\n",
      "\n",
      "\n",
      "Task Time Statistics (w/o outliers) (microseconds)\n",
      "      load : 253070 ±  41657\n",
      "      trim :    546 ±    245\n",
      "   contour :  66439 ±  10091\n",
      "preprocess :    129 ±    109\n",
      "     total : 346281 ±  46295\n"
     ]
    }
   ],
   "source": [
    "# Time breakdown reports\n",
    "print(\"Task Time Statistics (microseconds)\")\n",
    "for name, values in times_df.items():\n",
    "    print(\"%10s :\" % name, \n",
    "          \"%6i\" % (values.mean()*1000000), \n",
    "          u\"\\u00B1\", \n",
    "          \"%6i\" % (values.std()*1000000)\n",
    "         )    \n",
    "print(\"\\n\")\n",
    "\n",
    "print(\"Task Time Statistics (w/o outliers) (microseconds)\")\n",
    "for name, values in times_df_fix.items():\n",
    "    print(\"%10s :\" % name, \n",
    "          \"%6i\" % (values.mean()*1000000),\n",
    "          u\"\\u00B1\", \n",
    "          \"%6i\" % (values.std()*1000000)\n",
    "         )"
   ]
  },
  {
   "cell_type": "code",
   "execution_count": null,
   "id": "2614676b-c574-441b-9273-06143e395051",
   "metadata": {},
   "outputs": [],
   "source": []
  }
 ],
 "metadata": {
  "kernelspec": {
   "display_name": "Python 3 (ipykernel)",
   "language": "python",
   "name": "python3"
  },
  "language_info": {
   "codemirror_mode": {
    "name": "ipython",
    "version": 3
   },
   "file_extension": ".py",
   "mimetype": "text/x-python",
   "name": "python",
   "nbconvert_exporter": "python",
   "pygments_lexer": "ipython3",
   "version": "3.9.7"
  }
 },
 "nbformat": 4,
 "nbformat_minor": 5
}
