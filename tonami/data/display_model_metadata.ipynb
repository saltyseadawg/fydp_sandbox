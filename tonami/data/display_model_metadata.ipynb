{
 "cells": [
  {
   "cell_type": "code",
   "execution_count": 7,
   "metadata": {},
   "outputs": [
    {
     "name": "stdout",
     "output_type": "stream",
     "text": [
      "c:\\Users\\robyn\\Documents\\_School\\GitHub\\tonami-package\n"
     ]
    }
   ],
   "source": [
    "cd ..\n",
    "cd .."
   ]
  },
  {
   "cell_type": "code",
   "execution_count": 8,
   "metadata": {},
   "outputs": [],
   "source": [
    "import pandas as pd"
   ]
  },
  {
   "cell_type": "code",
   "execution_count": 9,
   "metadata": {},
   "outputs": [],
   "source": [
    "MODEL_META_FILEPATH = 'tonami/data/model_metadata.json'\n",
    "pd.set_option('display.max_rows', None)"
   ]
  },
  {
   "cell_type": "code",
   "execution_count": 38,
   "metadata": {},
   "outputs": [
    {
     "data": {
      "text/html": [
       "<div>\n",
       "<style scoped>\n",
       "    .dataframe tbody tr th:only-of-type {\n",
       "        vertical-align: middle;\n",
       "    }\n",
       "\n",
       "    .dataframe tbody tr th {\n",
       "        vertical-align: top;\n",
       "    }\n",
       "\n",
       "    .dataframe thead th {\n",
       "        text-align: right;\n",
       "    }\n",
       "</style>\n",
       "<table border=\"1\" class=\"dataframe\">\n",
       "  <thead>\n",
       "    <tr style=\"text-align: right;\">\n",
       "      <th></th>\n",
       "      <th>Name</th>\n",
       "      <th>Date</th>\n",
       "      <th>Type</th>\n",
       "      <th>Preprocessing</th>\n",
       "      <th>Train Size</th>\n",
       "      <th>Accuracy</th>\n",
       "      <th>Train Distribution</th>\n",
       "      <th>Test Distribution</th>\n",
       "      <th>Train Number</th>\n",
       "      <th>Test Number</th>\n",
       "    </tr>\n",
       "  </thead>\n",
       "  <tbody>\n",
       "    <tr>\n",
       "      <th>0</th>\n",
       "      <td>svm_80_lda</td>\n",
       "      <td>2022-04-22 20:05:41</td>\n",
       "      <td>svm</td>\n",
       "      <td>lda</td>\n",
       "      <td>0.8</td>\n",
       "      <td>0.958886</td>\n",
       "      <td>[26.11, 25.78, 25.8, 22.31]</td>\n",
       "      <td>[24.86, 26.17, 25.28, 23.7]</td>\n",
       "      <td>7611</td>\n",
       "      <td>1903</td>\n",
       "    </tr>\n",
       "    <tr>\n",
       "      <th>1</th>\n",
       "      <td>svm_10_none</td>\n",
       "      <td>2022-04-22 20:06:10</td>\n",
       "      <td>svm</td>\n",
       "      <td>none</td>\n",
       "      <td>0.1</td>\n",
       "      <td>0.939793</td>\n",
       "      <td>[27.13, 23.76, 27.34, 21.77]</td>\n",
       "      <td>[25.72, 26.09, 25.52, 22.68]</td>\n",
       "      <td>951</td>\n",
       "      <td>8563</td>\n",
       "    </tr>\n",
       "  </tbody>\n",
       "</table>\n",
       "</div>"
      ],
      "text/plain": [
       "          Name                Date Type Preprocessing  Train Size  Accuracy  \\\n",
       "0   svm_80_lda 2022-04-22 20:05:41  svm           lda         0.8  0.958886   \n",
       "1  svm_10_none 2022-04-22 20:06:10  svm          none         0.1  0.939793   \n",
       "\n",
       "             Train Distribution             Test Distribution  Train Number  \\\n",
       "0   [26.11, 25.78, 25.8, 22.31]   [24.86, 26.17, 25.28, 23.7]          7611   \n",
       "1  [27.13, 23.76, 27.34, 21.77]  [25.72, 26.09, 25.52, 22.68]           951   \n",
       "\n",
       "   Test Number  \n",
       "0         1903  \n",
       "1         8563  "
      ]
     },
     "execution_count": 38,
     "metadata": {},
     "output_type": "execute_result"
    }
   ],
   "source": [
    "metadata = pd.read_json(MODEL_META_FILEPATH, orient=\"index\")\n",
    "metadata"
   ]
  }
 ],
 "metadata": {
  "interpreter": {
   "hash": "205135f94b6c597dbc3751f774eee6f11e918e6568008f147fdde109e99e9f5d"
  },
  "kernelspec": {
   "display_name": "Python 3.10.4 64-bit",
   "language": "python",
   "name": "python3"
  },
  "language_info": {
   "codemirror_mode": {
    "name": "ipython",
    "version": 3
   },
   "file_extension": ".py",
   "mimetype": "text/x-python",
   "name": "python",
   "nbconvert_exporter": "python",
   "pygments_lexer": "ipython3",
   "version": "3.9.7"
  },
  "orig_nbformat": 4
 },
 "nbformat": 4,
 "nbformat_minor": 2
}
