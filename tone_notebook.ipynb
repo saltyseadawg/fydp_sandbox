{
 "cells": [
  {
   "cell_type": "markdown",
   "id": "3a39f386-c822-488f-a3ef-51b6aef3aa7c",
   "metadata": {},
   "source": [
    "# Tone Notebook"
   ]
  },
  {
   "cell_type": "code",
   "execution_count": 5,
   "id": "268d0865-2ab4-47b6-ae3a-209c3d7adcde",
   "metadata": {},
   "outputs": [],
   "source": [
    "import pitch_process as pp\n",
    "\n",
    "from curses import window\n",
    "from encodings import normalize_encoding\n",
    "from locale import normalize\n",
    "import math\n",
    "from cmath import log\n",
    "from random import uniform\n",
    "import librosa\n",
    "import librosa.display\n",
    "import matplotlib.pyplot as plt\n",
    "import numpy as np\n",
    "from scipy.ndimage.filters import uniform_filter1d"
   ]
  },
  {
   "cell_type": "code",
   "execution_count": 6,
   "id": "3db22098-07ca-4f66-91e4-d08491751a39",
   "metadata": {},
   "outputs": [
    {
     "name": "stderr",
     "output_type": "stream",
     "text": [
      "/opt/conda/lib/python3.9/site-packages/librosa/core/audio.py:165: UserWarning: PySoundFile failed. Trying audioread instead.\n",
      "  warnings.warn(\"PySoundFile failed. Trying audioread instead.\")\n"
     ]
    },
    {
     "name": "stdout",
     "output_type": "stream",
     "text": [
      "[124.76575495 123.91480706 122.50460362 120.82200319 119.01484854\n",
      " 117.10756061 115.36196429 111.82044521 108.55132312 107.76193356]\n"
     ]
    },
    {
     "data": {
      "image/png": "[encoded data removed]",
      "text/plain": [
       "<Figure size 432x288 with 1 Axes>"
      ]
     },
     "metadata": {
      "needs_background": "light"
     },
     "output_type": "display_data"
    }
   ],
   "source": [
    "\n",
    "# def main():\n",
    "# pyin - F0 estimate\n",
    "filename = 'data/Zh-tā.ogg.mp3'\n",
    "y, sr = librosa.load(filename)\n",
    "f0, voiced_flag, voiced_probs = librosa.pyin(y, fmin=librosa.note_to_hz('C2'), fmax=librosa.note_to_hz('C7'))\n",
    "# print(f0)\n",
    "# print(voiced_flag)\n",
    "# print(voiced_probs)\n",
    "# times = librosa.times_like(f0)\n",
    "# handle creaky voice somewhere here\n",
    "voiced = pp.voice_activity(f0, voiced_flag)\n",
    "smoothed_f0 = pp.moving_average(voiced)\n",
    "# smoothed_f0 = voice_activity(f0, voiced_flag)\n",
    "max_f0 = pp.get_max_f0(voiced)\n",
    "min_f0 = pp.get_min_f0(voiced)\n",
    "normalized_values = pp.normalize_pitch(smoothed_f0, max_f0, min_f0)\n",
    "# print(normalized_values)\n",
    "print(smoothed_f0)\n",
    "ax = plt.gca()\n",
    "ax.set_ylim([0, 5])\n",
    "plt.yticks(np.arange(0, 5, 0.5))\n",
    "plt.plot(normalized_values)\n",
    "plt.show()\n",
    "# plt.savefig('normalize6.png')\n"
   ]
  },
  {
   "cell_type": "code",
   "execution_count": null,
   "id": "b7e5d0b1-0d59-40bf-8f72-ce6d7e7d685c",
   "metadata": {},
   "outputs": [],
   "source": []
  }
 ],
 "metadata": {
  "kernelspec": {
   "display_name": "Python 3 (ipykernel)",
   "language": "python",
   "name": "python3"
  },
  "language_info": {
   "codemirror_mode": {
    "name": "ipython",
    "version": 3
   },
   "file_extension": ".py",
   "mimetype": "text/x-python",
   "name": "python",
   "nbconvert_exporter": "python",
   "pygments_lexer": "ipython3",
   "version": "3.9.7"
  }
 },
 "nbformat": 4,
 "nbformat_minor": 5
}
